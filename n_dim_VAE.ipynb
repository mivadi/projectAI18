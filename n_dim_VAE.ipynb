{
 "cells": [
  {
   "cell_type": "markdown",
   "metadata": {},
   "source": [
    "# Project AI\n",
    "\n",
    "Import required sources."
   ]
  },
  {
   "cell_type": "code",
   "execution_count": null,
   "metadata": {},
   "outputs": [],
   "source": [
    "%pylab inline\n",
    "import torch\n",
    "from torchvision import datasets, transforms\n",
    "from torch.autograd import Variable\n",
    "from torch import nn, optim\n",
    "from VAE import *\n",
    "from train import *\n",
    "import numpy as np"
   ]
  },
  {
   "cell_type": "markdown",
   "metadata": {},
   "source": [
    "## Run Gaussian model"
   ]
  },
  {
   "cell_type": "code",
   "execution_count": null,
   "metadata": {},
   "outputs": [],
   "source": [
    "# set hyperparameters\n",
    "latent_dim = 10\n",
    "batch_size = 50\n",
    "epochs = 50\n",
    "\n",
    "# Load data\n",
    "train_data = datasets.MNIST('../data', train=True, download=True,\n",
    "                   transform=transforms.ToTensor())"
   ]
  },
  {
   "cell_type": "code",
   "execution_count": null,
   "metadata": {},
   "outputs": [],
   "source": [
    "VAE_Gaussian, loss_Gaussian, z_Gaussian, KL_Gaussian, log_bern_Gaussian = run_train(latent_dim, epochs, 'Gaussian', train_data, 1e-3)"
   ]
  },
  {
   "cell_type": "code",
   "execution_count": null,
   "metadata": {},
   "outputs": [],
   "source": [
    "VAE_gumbel, loss_gumbel, z_gumbel, KL_gumbel, log_bern_gumbel = run_train(latent_dim, epochs, 'Gumbel', train_data, 1e-3)"
   ]
  },
  {
   "cell_type": "code",
   "execution_count": null,
   "metadata": {},
   "outputs": [],
   "source": [
    "VAE_logit, loss_logit, z_logit, KL_logit, log_bern_logit = run_train(latent_dim, epochs, 'logit', train_data, 1e-3)"
   ]
  },
  {
   "cell_type": "code",
   "execution_count": null,
   "metadata": {},
   "outputs": [],
   "source": [
    "import random\n",
    "random.seed(1000)\n",
    "\n",
    "VAE_logit_rank1, loss_logit_rank1, z_logit_rank1, KL_logit_rank1, log_bern_rank1 = run_train(latent_dim, epochs, 'logit', train_data, 1e-3, True)"
   ]
  },
  {
   "cell_type": "code",
   "execution_count": null,
   "metadata": {},
   "outputs": [],
   "source": [
    "VAE_logit_sigmoid, loss_logit_sigmoid, z_logit_sigmoid, KL_logit_sigmoid, log_bern_sigmoid = run_train(latent_dim, epochs, 'logit-sigmoidal', train_data, 1e-3)"
   ]
  },
  {
   "cell_type": "markdown",
   "metadata": {},
   "source": [
    "## Plot of losses"
   ]
  },
  {
   "cell_type": "code",
   "execution_count": null,
   "metadata": {},
   "outputs": [],
   "source": [
    "epoch_space = np.linspace(1,50,50)\n",
    "plt.plot(epoch_space, loss_Gaussian, label='Gaussian')\n",
    "plt.plot(epoch_space, loss_logit, label='logit')\n",
    "plt.plot(epoch_space, loss_logit_rank1, label='logit rank1')\n",
    "plt.plot(epoch_space, loss_logit_sigmoid, label='logit sigmoidal')\n",
    "plt.plot(epoch_space, loss_gumbel, label='Gumbel')\n",
    "plt.legend()\n",
    "plt.show()"
   ]
  },
  {
   "cell_type": "markdown",
   "metadata": {},
   "source": [
    "## T-SNE plots"
   ]
  },
  {
   "cell_type": "code",
   "execution_count": null,
   "metadata": {},
   "outputs": [],
   "source": [
    "from sklearn.manifold import TSNE \n",
    "import collections\n",
    "from collections import *\n",
    "\n",
    "def find_TSNE_coordinates(train_loader_scatter_plot, model):\n",
    "    \n",
    "    x_coordinates = defaultdict(lambda: [])\n",
    "    y_coordinates = defaultdict(lambda: [])\n",
    "    \n",
    "    for batch_idx, (data, label) in enumerate(train_loader_scatter_plot):\n",
    "        _, z, _ = model(data)\n",
    "        labels = label.data.cpu().numpy()\n",
    "        embedded = TSNE(n_components=2).fit_transform(z.data.cpu().numpy())\n",
    "        if batch_idx == 0:\n",
    "            break\n",
    "            \n",
    "    assert embedded.shape[0] == labels.shape[0]    \n",
    "    for i in range(embedded.shape[0]):\n",
    "        x_coordinates[labels[i]].append(embedded[i][0])\n",
    "        y_coordinates[labels[i]].append(embedded[i][1])\n",
    "        \n",
    "    return x_coordinates, y_coordinates"
   ]
  },
  {
   "cell_type": "code",
   "execution_count": null,
   "metadata": {},
   "outputs": [],
   "source": [
    "train_data = datasets.MNIST('../data', train=True, download=True,\n",
    "                   transform=transforms.ToTensor())\n",
    "\n",
    "train_loader = torch.utils.data.DataLoader(train_data,\n",
    "                                           batch_size=10000, shuffle=False, **{})"
   ]
  },
  {
   "cell_type": "code",
   "execution_count": null,
   "metadata": {},
   "outputs": [],
   "source": [
    "x_latent_space_Gumbel, y_latent_space_Gumbel = find_TSNE_coordinates(train_loader, VAE_gumbel)\n",
    "for label in x_latent_space_Gumbel:\n",
    "    plt.scatter(x_latent_space_Gumbel[label], y_latent_space_Gumbel[label], marker='.')\n",
    "plt.show()"
   ]
  },
  {
   "cell_type": "code",
   "execution_count": null,
   "metadata": {},
   "outputs": [],
   "source": [
    "x_latent_space_Gaussian, y_latent_space_Gaussian = find_TSNE_coordinates(train_loader, VAE_Gaussian)\n",
    "for label in x_latent_space_Gaussian:\n",
    "    plt.scatter(x_latent_space_Gaussian[label], y_latent_space_Gaussian[label], marker='.')\n",
    "plt.show()"
   ]
  },
  {
   "cell_type": "code",
   "execution_count": null,
   "metadata": {},
   "outputs": [],
   "source": [
    "x_latent_space_logit, y_latent_space_logit = find_TSNE_coordinates(train_loader, VAE_logit)\n",
    "for label in x_latent_space_logit:\n",
    "    plt.scatter(x_latent_space_logit[label], y_latent_space_logit[label], marker='.')\n",
    "plt.show()"
   ]
  },
  {
   "cell_type": "code",
   "execution_count": null,
   "metadata": {},
   "outputs": [],
   "source": [
    "x_latent_space_logit, y_latent_space_logit = find_TSNE_coordinates(train_loader, VAE_logit_sigmoid)\n",
    "for label in x_latent_space_logit:\n",
    "    plt.scatter(x_latent_space_logit[label], y_latent_space_logit[label], marker='.')\n",
    "plt.show()"
   ]
  },
  {
   "cell_type": "code",
   "execution_count": null,
   "metadata": {},
   "outputs": [],
   "source": [
    "x_latent_space_logit, y_latent_space_logit = find_TSNE_coordinates(train_loader, VAE_logit_rank1)\n",
    "for label in x_latent_space_logit:\n",
    "    plt.scatter(x_latent_space_logit[label], y_latent_space_logit[label], marker='.')\n",
    "plt.show()"
   ]
  },
  {
   "cell_type": "markdown",
   "metadata": {},
   "source": [
    "## Histograms of z"
   ]
  },
  {
   "cell_type": "code",
   "execution_count": null,
   "metadata": {},
   "outputs": [],
   "source": [
    "# def plot_histogram(title, z):\n",
    "#     hist_values = [[] for i in range(z.size(0))]\n",
    "#     for i in range(z.size(0)):\n",
    "#         for j in range(z.size(1)):\n",
    "#             hist_values[i].append(float(z[i][j]))\n",
    "#             plt.hist(hist_values[i],  bins = 10, histtype=u'step')\n",
    "#     plt.title(title)\n",
    "#     plt.show()\n",
    "\n",
    "def plot_histogram(title, z):\n",
    "    hist_values = [[] for i in range(len(z))]\n",
    "    \n",
    "    for i in range(z[0].size(0)):\n",
    "        for j in range(len(z)):\n",
    "            hist_values[i].append(float(z[j][i]))\n",
    "        plt.hist(hist_values[i],  bins = 10, histtype=u'step')\n",
    "        plt.show()"
   ]
  },
  {
   "cell_type": "code",
   "execution_count": null,
   "metadata": {},
   "outputs": [],
   "source": [
    "\n",
    "plot_histogram('Histogram for Gaussian Distribution', z_Gaussian)\n"
   ]
  },
  {
   "cell_type": "code",
   "execution_count": null,
   "metadata": {},
   "outputs": [],
   "source": [
    "\n",
    "plot_histogram('Histogram for logit Distribution', z_logit)\n"
   ]
  },
  {
   "cell_type": "code",
   "execution_count": null,
   "metadata": {},
   "outputs": [],
   "source": [
    "\n",
    "plot_histogram('Histogram for the Logit Distribution for Rank1 Covariance Approximation', z_logit_rank1)\n"
   ]
  },
  {
   "cell_type": "code",
   "execution_count": null,
   "metadata": {},
   "outputs": [],
   "source": [
    "\n",
    "plot_histogram('Histogram for the Gumbel Distribution', z_gumbel)\n"
   ]
  },
  {
   "cell_type": "code",
   "execution_count": null,
   "metadata": {},
   "outputs": [],
   "source": [
    "\n",
    "plot_histogram('Histogram for logit_sigmoid', z_logit_sigmoid)\n"
   ]
  },
  {
   "cell_type": "code",
   "execution_count": null,
   "metadata": {},
   "outputs": [],
   "source": [
    "print ('KL mean for Gauss = ', torch.mean(torch.stack(KL_Gaussian)).data.cpu().numpy())\n",
    "print ('KL mean for Gumbel = ', torch.mean(torch.stack(KL_gumbel)).data.cpu().numpy())\n",
    "print ('KL mean for logit = ',torch.mean(torch.stack(KL_logit)).data.cpu().numpy())\n",
    "print ('KL mean for logit_rank1 = ', torch.mean(torch.stack(KL_logit_rank1)).data.cpu().numpy())\n",
    "print ('KL mean for logit_sigmoid = ', torch.mean(torch.stack(KL_logit_sigmoid)).data.cpu().numpy())"
   ]
  },
  {
   "cell_type": "code",
   "execution_count": null,
   "metadata": {},
   "outputs": [],
   "source": [
    "print ('log_bern mean for Gaussian = ' ,torch.mean(torch.stack(log_bern_Gaussian)).data.cpu().numpy())\n",
    "print ('log_bern mean for Gumbel = ', torch.mean(torch.stack(log_bern_gumbel)).data.cpu().numpy())\n",
    "print ('log_bern mean for Logit = ', torch.mean(torch.stack(log_bern_logit)).data.cpu().numpy())\n",
    "print ('log_bern mean for Logit_rank1 = ', torch.mean(torch.stack(log_bern_rank1)).data.cpu().numpy())\n",
    "print ('log_bern mean for Logit_sigmoid = ', torch.mean(torch.stack(log_bern_sigmoid)).data.cpu().numpy())"
   ]
  },
  {
   "cell_type": "code",
   "execution_count": null,
   "metadata": {},
   "outputs": [],
   "source": []
  }
 ],
 "metadata": {
  "kernelspec": {
   "display_name": "Python 3",
   "language": "python",
   "name": "python3"
  },
  "language_info": {
   "codemirror_mode": {
    "name": "ipython",
    "version": 3
   },
   "file_extension": ".py",
   "mimetype": "text/x-python",
   "name": "python",
   "nbconvert_exporter": "python",
   "pygments_lexer": "ipython3",
   "version": "3.6.4"
  }
 },
 "nbformat": 4,
 "nbformat_minor": 2
}
